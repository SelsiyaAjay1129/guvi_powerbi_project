{
  "nbformat": 4,
  "nbformat_minor": 0,
  "metadata": {
    "colab": {
      "provenance": [],
      "authorship_tag": "ABX9TyNMfKCnCnWawPY3wMfZLrHj",
      "include_colab_link": true
    },
    "kernelspec": {
      "name": "python3",
      "display_name": "Python 3"
    },
    "language_info": {
      "name": "python"
    }
  },
  "cells": [
    {
      "cell_type": "markdown",
      "metadata": {
        "id": "view-in-github",
        "colab_type": "text"
      },
      "source": [
        "<a href=\"https://colab.research.google.com/github/SelsiyaAjay1129/guvi_powerbi_project/blob/main/amazoprime.ipynb\" target=\"_parent\"><img src=\"https://colab.research.google.com/assets/colab-badge.svg\" alt=\"Open In Colab\"/></a>"
      ]
    },
    {
      "cell_type": "code",
      "source": [
        "# amazon prime\n",
        "\n",
        "import pandas as pd\n",
        "\n",
        "url = \"https://www.kaggle.com/datasets/shivamb/amazon-prime-movies-and-tv-shows_Dataset.xlsx\"\n",
        "df =pd.read_excel(url)\n",
        "print(df)"
      ],
      "metadata": {
        "id": "EjPkudEqI53e"
      },
      "execution_count": null,
      "outputs": []
    }
  ]
}